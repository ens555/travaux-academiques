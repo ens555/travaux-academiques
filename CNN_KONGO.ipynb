{
  "nbformat": 4,
  "nbformat_minor": 0,
  "metadata": {
    "colab": {
      "name": "CNN_KONGO.ipynb",
      "provenance": [],
      "collapsed_sections": [],
      "toc_visible": true
    },
    "kernelspec": {
      "name": "python3",
      "display_name": "Python 3"
    },
    "accelerator": "GPU"
  },
  "cells": [
    {
      "cell_type": "code",
      "metadata": {
        "id": "vQzqkM9usHYT",
        "colab_type": "code",
        "colab": {}
      },
      "source": [
        "#librairies\n",
        "import tensorflow as tf\n",
        "import keras\n",
        "from keras.preprocessing.image import ImageDataGenerator\n",
        "from keras.models import Sequential\n",
        "from keras.layers import Dense, Dropout, Activation, Flatten\n",
        "from keras.layers import Conv2D, MaxPooling2D\n",
        "#from sklearn.model_selection import train_test_split ### split le dataset en deux pour avoir une parti d'entrainement eet l'autre test\n",
        "import matplotlib.pyplot as plt\n",
        "from tensorflow.keras.models import Sequential\n",
        "from tensorflow.keras.layers import Conv2D,Dense,Dropout,Flatten,MaxPooling2D\n",
        "import numpy as np\n",
        "import os"
      ],
      "execution_count": 4,
      "outputs": []
    },
    {
      "cell_type": "code",
      "metadata": {
        "id": "8657eiJg1Val",
        "colab_type": "code",
        "colab": {
          "base_uri": "https://localhost:8080/",
          "height": 90
        },
        "outputId": "12ac1dfc-bc3a-4b85-9925-81d4b0945fb7"
      },
      "source": [
        "#installons une librairie qui contient la fonction Mish\n",
        "!pip install echoAI"
      ],
      "execution_count": null,
      "outputs": [
        {
          "output_type": "stream",
          "text": [
            "Collecting echoAI\n",
            "  Downloading https://files.pythonhosted.org/packages/68/34/ceb22e489bb1a2a04293c38a2112f7de2de50875504abd222e729f4404ea/echoAI-0.1.3-py3-none-any.whl\n",
            "Installing collected packages: echoAI\n",
            "Successfully installed echoAI-0.1.3\n"
          ],
          "name": "stdout"
        }
      ]
    },
    {
      "cell_type": "code",
      "metadata": {
        "id": "dzY6nDD539KE",
        "colab_type": "code",
        "colab": {}
      },
      "source": [
        "#appel\n",
        "from echoAI.Activation.Keras.custom_activations import Mish"
      ],
      "execution_count": null,
      "outputs": []
    },
    {
      "cell_type": "code",
      "metadata": {
        "id": "fODG9QaQ4HH_",
        "colab_type": "code",
        "colab": {
          "base_uri": "https://localhost:8080/",
          "height": 54
        },
        "outputId": "096d0462-f842-40c5-e4d5-ee5ed56bec40"
      },
      "source": [
        "cifar= tf.keras.datasets.cifar10\n",
        "\n",
        "(x_train, y_train), (x_test, y_test)= cifar.load_data()"
      ],
      "execution_count": 5,
      "outputs": [
        {
          "output_type": "stream",
          "text": [
            "Downloading data from https://www.cs.toronto.edu/~kriz/cifar-10-python.tar.gz\n",
            "170500096/170498071 [==============================] - 3s 0us/step\n"
          ],
          "name": "stdout"
        }
      ]
    },
    {
      "cell_type": "code",
      "metadata": {
        "id": "5oHavqqn8te3",
        "colab_type": "code",
        "colab": {}
      },
      "source": [
        "num_train, height, width, depth = x_train.shape "
      ],
      "execution_count": 7,
      "outputs": []
    },
    {
      "cell_type": "code",
      "metadata": {
        "id": "ZguTFN57_Fr7",
        "colab_type": "code",
        "colab": {
          "base_uri": "https://localhost:8080/",
          "height": 35
        },
        "outputId": "ce0c28f2-dd3a-4487-caf4-b40c59344e8e"
      },
      "source": [
        "x_train.shape"
      ],
      "execution_count": 8,
      "outputs": [
        {
          "output_type": "execute_result",
          "data": {
            "text/plain": [
              "(50000, 32, 32, 3)"
            ]
          },
          "metadata": {
            "tags": []
          },
          "execution_count": 8
        }
      ]
    },
    {
      "cell_type": "code",
      "metadata": {
        "id": "TJMnMJYJzG-G",
        "colab_type": "code",
        "colab": {}
      },
      "source": [
        "\n",
        "\n",
        "\n",
        "\n",
        "\n",
        "num_test = x_test.shape[0] \n",
        "\n",
        "num_classes = np.unique(y_train).shape[0] # 10 classes\n",
        "\n",
        "X_train = x_train.reshape(x_train.shape[0],depth, height,width) # transforme un vecteur en matrice pour x_train\n",
        "\n",
        "X_test = x_test.reshape(x_test.shape[0],depth, height,width)\n"
      ],
      "execution_count": 9,
      "outputs": []
    },
    {
      "cell_type": "code",
      "metadata": {
        "id": "3985r49Kz_sl",
        "colab_type": "code",
        "colab": {}
      },
      "source": [
        "model_cnn = Sequential()\n",
        "\n",
        "model_cnn.add(Conv2D(32,kernel_size=(3,3),input_shape=(height,width,depth),strides=(1, 1), padding='same',activation='elu'))\n",
        "\n",
        "\n",
        "model_cnn.add(Conv2D(32,kernel_size=(3,3),input_shape=(height,width,depth),strides=(1, 1), padding='same',activation='elu'))\n",
        "\n",
        "model_cnn.add(Conv2D(32,kernel_size=(3,3),input_shape=(height,width,depth),strides=(1, 1), padding='same',activation='elu'))\n",
        "\n",
        "\n",
        "model_cnn.add(Conv2D(32,kernel_size=(3,3),input_shape=(height,width,depth),strides=(1, 1), padding='same',activation='elu'))\n",
        "\n",
        "\n",
        "model_cnn.add(Conv2D(32,kernel_size=(3,3),input_shape=(height,width,depth),strides=(1, 1), padding='same',activation='elu'))\n",
        "\n",
        "model_cnn.add(Conv2D(32,kernel_size=(3,3),input_shape=(height,width,depth),strides=(1, 1), padding='same',activation='relu'))\n",
        "\n",
        "model_cnn.add(MaxPooling2D(pool_size=(2,2)))\n",
        "model_cnn.add(Dropout(0.25))\n",
        "\n",
        "model_cnn.add(Conv2D(64,kernel_size=(3,3),input_shape=(height,width,depth),strides=(1, 1), padding='same',activation=tf.nn.swish))\n",
        "\n",
        "model_cnn.add(Conv2D(64,kernel_size=(3,3),strides=(1, 1), padding='same',activation=tf.nn.swish))\n",
        "\n",
        "model_cnn.add(Conv2D(64,kernel_size=(3,3),strides=(1, 1), padding='same',activation=tf.nn.swish))\n",
        "model_cnn.add(MaxPooling2D(pool_size=(2,2)))\n",
        "\n",
        "model_cnn.add(Dropout(0.25))\n",
        "\n",
        "model_cnn.add(Conv2D(128,kernel_size=(3,3),strides=(1, 1), padding='same',activation='elu'))\n",
        "model_cnn.add(MaxPooling2D(pool_size=(2,2)))\n",
        "\n",
        "model_cnn.add(Conv2D(128,kernel_size=(3,3),strides=(1, 1), padding='same',activation='elu'))\n",
        "model_cnn.add(MaxPooling2D(pool_size=(2,2)))\n",
        "\n",
        "model_cnn.add(Conv2D(256,kernel_size=(3,3),strides=(1, 1), padding='same',activation=tf.nn.swish))\n",
        "model_cnn.add(MaxPooling2D(pool_size=(2,2)))\n",
        "\n",
        "model_cnn.add(Dropout(0.25))\n",
        "\n",
        "\n",
        "model_cnn.add(Flatten())\n",
        "\n",
        "model_cnn.add(Dense(512,activation=tf.nn.swish))\n",
        "\n",
        "model_cnn.add(Dense(512,activation=tf.nn.swish))\n",
        "model_cnn.add(Dropout(0.50))\n",
        "model_cnn.add(Dense(10,activation=tf.nn.softmax))"
      ],
      "execution_count": 10,
      "outputs": []
    },
    {
      "cell_type": "code",
      "metadata": {
        "id": "CS0KKtT7_gsH",
        "colab_type": "code",
        "colab": {
          "base_uri": "https://localhost:8080/",
          "height": 1000
        },
        "outputId": "14db645a-0196-4b33-db3e-fd27422e7cc0"
      },
      "source": [
        "model_cnn.summary() ### la structure du modèle"
      ],
      "execution_count": 11,
      "outputs": [
        {
          "output_type": "stream",
          "text": [
            "Model: \"sequential\"\n",
            "_________________________________________________________________\n",
            "Layer (type)                 Output Shape              Param #   \n",
            "=================================================================\n",
            "conv2d (Conv2D)              (None, 32, 32, 32)        896       \n",
            "_________________________________________________________________\n",
            "conv2d_1 (Conv2D)            (None, 32, 32, 32)        9248      \n",
            "_________________________________________________________________\n",
            "conv2d_2 (Conv2D)            (None, 32, 32, 32)        9248      \n",
            "_________________________________________________________________\n",
            "conv2d_3 (Conv2D)            (None, 32, 32, 32)        9248      \n",
            "_________________________________________________________________\n",
            "conv2d_4 (Conv2D)            (None, 32, 32, 32)        9248      \n",
            "_________________________________________________________________\n",
            "conv2d_5 (Conv2D)            (None, 32, 32, 32)        9248      \n",
            "_________________________________________________________________\n",
            "max_pooling2d (MaxPooling2D) (None, 16, 16, 32)        0         \n",
            "_________________________________________________________________\n",
            "dropout (Dropout)            (None, 16, 16, 32)        0         \n",
            "_________________________________________________________________\n",
            "conv2d_6 (Conv2D)            (None, 16, 16, 64)        18496     \n",
            "_________________________________________________________________\n",
            "conv2d_7 (Conv2D)            (None, 16, 16, 64)        36928     \n",
            "_________________________________________________________________\n",
            "conv2d_8 (Conv2D)            (None, 16, 16, 64)        36928     \n",
            "_________________________________________________________________\n",
            "max_pooling2d_1 (MaxPooling2 (None, 8, 8, 64)          0         \n",
            "_________________________________________________________________\n",
            "dropout_1 (Dropout)          (None, 8, 8, 64)          0         \n",
            "_________________________________________________________________\n",
            "conv2d_9 (Conv2D)            (None, 8, 8, 128)         73856     \n",
            "_________________________________________________________________\n",
            "max_pooling2d_2 (MaxPooling2 (None, 4, 4, 128)         0         \n",
            "_________________________________________________________________\n",
            "conv2d_10 (Conv2D)           (None, 4, 4, 128)         147584    \n",
            "_________________________________________________________________\n",
            "max_pooling2d_3 (MaxPooling2 (None, 2, 2, 128)         0         \n",
            "_________________________________________________________________\n",
            "conv2d_11 (Conv2D)           (None, 2, 2, 256)         295168    \n",
            "_________________________________________________________________\n",
            "max_pooling2d_4 (MaxPooling2 (None, 1, 1, 256)         0         \n",
            "_________________________________________________________________\n",
            "dropout_2 (Dropout)          (None, 1, 1, 256)         0         \n",
            "_________________________________________________________________\n",
            "flatten (Flatten)            (None, 256)               0         \n",
            "_________________________________________________________________\n",
            "dense (Dense)                (None, 512)               131584    \n",
            "_________________________________________________________________\n",
            "dense_1 (Dense)              (None, 512)               262656    \n",
            "_________________________________________________________________\n",
            "dropout_3 (Dropout)          (None, 512)               0         \n",
            "_________________________________________________________________\n",
            "dense_2 (Dense)              (None, 10)                5130      \n",
            "=================================================================\n",
            "Total params: 1,055,466\n",
            "Trainable params: 1,055,466\n",
            "Non-trainable params: 0\n",
            "_________________________________________________________________\n"
          ],
          "name": "stdout"
        }
      ]
    },
    {
      "cell_type": "code",
      "metadata": {
        "id": "7Sogmheu_2Pv",
        "colab_type": "code",
        "colab": {}
      },
      "source": [
        "model_cnn.compile(optimizer='sgd',loss='sparse_categorical_crossentropy',metrics=['accuracy'])"
      ],
      "execution_count": 12,
      "outputs": []
    },
    {
      "cell_type": "code",
      "metadata": {
        "id": "OFjMTCoK_8Fo",
        "colab_type": "code",
        "colab": {}
      },
      "source": [
        "model_save = \"modeles/CNN_KONGO.h5\"\n",
        "cp_callback = tf.keras.callbacks.ModelCheckpoint(filepath=model_save, save_weights_only=True, verbose=1)"
      ],
      "execution_count": 13,
      "outputs": []
    },
    {
      "cell_type": "code",
      "metadata": {
        "id": "M1sUNdi-T0l8",
        "colab_type": "code",
        "colab": {}
      },
      "source": [
        ""
      ],
      "execution_count": null,
      "outputs": []
    },
    {
      "cell_type": "code",
      "metadata": {
        "id": "e7dSuipRBXLW",
        "colab_type": "code",
        "colab": {
          "base_uri": "https://localhost:8080/",
          "height": 1000
        },
        "outputId": "668b71b5-f374-4b2b-d304-f68d460d6b2d"
      },
      "source": [
        "resultat = model_cnn.fit(x_train,y_train,epochs=50, callbacks=[cp_callback])"
      ],
      "execution_count": 14,
      "outputs": [
        {
          "output_type": "stream",
          "text": [
            "Epoch 1/50\n",
            "1563/1563 [==============================] - ETA: 0s - loss: 2.1161 - accuracy: 0.2153\n",
            "Epoch 00001: saving model to modeles/CNN_KONGO.h5\n",
            "1563/1563 [==============================] - 11s 7ms/step - loss: 2.1161 - accuracy: 0.2153\n",
            "Epoch 2/50\n",
            "1556/1563 [============================>.] - ETA: 0s - loss: 1.6662 - accuracy: 0.3832\n",
            "Epoch 00002: saving model to modeles/CNN_KONGO.h5\n",
            "1563/1563 [==============================] - 11s 7ms/step - loss: 1.6656 - accuracy: 0.3832\n",
            "Epoch 3/50\n",
            "1559/1563 [============================>.] - ETA: 0s - loss: 1.4237 - accuracy: 0.4773\n",
            "Epoch 00003: saving model to modeles/CNN_KONGO.h5\n",
            "1563/1563 [==============================] - 11s 7ms/step - loss: 1.4234 - accuracy: 0.4773\n",
            "Epoch 4/50\n",
            "1558/1563 [============================>.] - ETA: 0s - loss: 1.2397 - accuracy: 0.5526\n",
            "Epoch 00004: saving model to modeles/CNN_KONGO.h5\n",
            "1563/1563 [==============================] - 11s 7ms/step - loss: 1.2397 - accuracy: 0.5525\n",
            "Epoch 5/50\n",
            "1561/1563 [============================>.] - ETA: 0s - loss: 1.1040 - accuracy: 0.6021\n",
            "Epoch 00005: saving model to modeles/CNN_KONGO.h5\n",
            "1563/1563 [==============================] - 11s 7ms/step - loss: 1.1041 - accuracy: 0.6022\n",
            "Epoch 6/50\n",
            "1559/1563 [============================>.] - ETA: 0s - loss: 0.9936 - accuracy: 0.6460\n",
            "Epoch 00006: saving model to modeles/CNN_KONGO.h5\n",
            "1563/1563 [==============================] - 11s 7ms/step - loss: 0.9937 - accuracy: 0.6460\n",
            "Epoch 7/50\n",
            "1562/1563 [============================>.] - ETA: 0s - loss: 0.9035 - accuracy: 0.6819\n",
            "Epoch 00007: saving model to modeles/CNN_KONGO.h5\n",
            "1563/1563 [==============================] - 11s 7ms/step - loss: 0.9035 - accuracy: 0.6819\n",
            "Epoch 8/50\n",
            "1559/1563 [============================>.] - ETA: 0s - loss: 0.8324 - accuracy: 0.7061\n",
            "Epoch 00008: saving model to modeles/CNN_KONGO.h5\n",
            "1563/1563 [==============================] - 11s 7ms/step - loss: 0.8324 - accuracy: 0.7061\n",
            "Epoch 9/50\n",
            "1563/1563 [==============================] - ETA: 0s - loss: 0.7730 - accuracy: 0.7267\n",
            "Epoch 00009: saving model to modeles/CNN_KONGO.h5\n",
            "1563/1563 [==============================] - 11s 7ms/step - loss: 0.7730 - accuracy: 0.7267\n",
            "Epoch 10/50\n",
            "1558/1563 [============================>.] - ETA: 0s - loss: 0.7179 - accuracy: 0.7455\n",
            "Epoch 00010: saving model to modeles/CNN_KONGO.h5\n",
            "1563/1563 [==============================] - 11s 7ms/step - loss: 0.7184 - accuracy: 0.7453\n",
            "Epoch 11/50\n",
            "1561/1563 [============================>.] - ETA: 0s - loss: 0.6790 - accuracy: 0.7611\n",
            "Epoch 00011: saving model to modeles/CNN_KONGO.h5\n",
            "1563/1563 [==============================] - 11s 7ms/step - loss: 0.6789 - accuracy: 0.7612\n",
            "Epoch 12/50\n",
            "1560/1563 [============================>.] - ETA: 0s - loss: 0.6357 - accuracy: 0.7766\n",
            "Epoch 00012: saving model to modeles/CNN_KONGO.h5\n",
            "1563/1563 [==============================] - 11s 7ms/step - loss: 0.6358 - accuracy: 0.7765\n",
            "Epoch 13/50\n",
            "1563/1563 [==============================] - ETA: 0s - loss: 0.6035 - accuracy: 0.7877\n",
            "Epoch 00013: saving model to modeles/CNN_KONGO.h5\n",
            "1563/1563 [==============================] - 11s 7ms/step - loss: 0.6035 - accuracy: 0.7877\n",
            "Epoch 14/50\n",
            "1560/1563 [============================>.] - ETA: 0s - loss: 0.5711 - accuracy: 0.7989\n",
            "Epoch 00014: saving model to modeles/CNN_KONGO.h5\n",
            "1563/1563 [==============================] - 11s 7ms/step - loss: 0.5710 - accuracy: 0.7990\n",
            "Epoch 15/50\n",
            "1558/1563 [============================>.] - ETA: 0s - loss: 0.5421 - accuracy: 0.8098\n",
            "Epoch 00015: saving model to modeles/CNN_KONGO.h5\n",
            "1563/1563 [==============================] - 11s 7ms/step - loss: 0.5423 - accuracy: 0.8098\n",
            "Epoch 16/50\n",
            "1560/1563 [============================>.] - ETA: 0s - loss: 0.5148 - accuracy: 0.8197\n",
            "Epoch 00016: saving model to modeles/CNN_KONGO.h5\n",
            "1563/1563 [==============================] - 11s 7ms/step - loss: 0.5149 - accuracy: 0.8196\n",
            "Epoch 17/50\n",
            "1556/1563 [============================>.] - ETA: 0s - loss: 0.4916 - accuracy: 0.8275\n",
            "Epoch 00017: saving model to modeles/CNN_KONGO.h5\n",
            "1563/1563 [==============================] - 11s 7ms/step - loss: 0.4917 - accuracy: 0.8275\n",
            "Epoch 18/50\n",
            "1557/1563 [============================>.] - ETA: 0s - loss: 0.4661 - accuracy: 0.8351\n",
            "Epoch 00018: saving model to modeles/CNN_KONGO.h5\n",
            "1563/1563 [==============================] - 11s 7ms/step - loss: 0.4662 - accuracy: 0.8350\n",
            "Epoch 19/50\n",
            "1559/1563 [============================>.] - ETA: 0s - loss: 0.4434 - accuracy: 0.8440\n",
            "Epoch 00019: saving model to modeles/CNN_KONGO.h5\n",
            "1563/1563 [==============================] - 11s 7ms/step - loss: 0.4431 - accuracy: 0.8440\n",
            "Epoch 20/50\n",
            "1557/1563 [============================>.] - ETA: 0s - loss: 0.4230 - accuracy: 0.8531\n",
            "Epoch 00020: saving model to modeles/CNN_KONGO.h5\n",
            "1563/1563 [==============================] - 11s 7ms/step - loss: 0.4230 - accuracy: 0.8531\n",
            "Epoch 21/50\n",
            "1558/1563 [============================>.] - ETA: 0s - loss: 0.4034 - accuracy: 0.8575\n",
            "Epoch 00021: saving model to modeles/CNN_KONGO.h5\n",
            "1563/1563 [==============================] - 11s 7ms/step - loss: 0.4035 - accuracy: 0.8574\n",
            "Epoch 22/50\n",
            "1561/1563 [============================>.] - ETA: 0s - loss: 0.3831 - accuracy: 0.8637\n",
            "Epoch 00022: saving model to modeles/CNN_KONGO.h5\n",
            "1563/1563 [==============================] - 11s 7ms/step - loss: 0.3832 - accuracy: 0.8637\n",
            "Epoch 23/50\n",
            "1560/1563 [============================>.] - ETA: 0s - loss: 0.3670 - accuracy: 0.8691\n",
            "Epoch 00023: saving model to modeles/CNN_KONGO.h5\n",
            "1563/1563 [==============================] - 11s 7ms/step - loss: 0.3672 - accuracy: 0.8691\n",
            "Epoch 24/50\n",
            "1562/1563 [============================>.] - ETA: 0s - loss: 0.3509 - accuracy: 0.8754\n",
            "Epoch 00024: saving model to modeles/CNN_KONGO.h5\n",
            "1563/1563 [==============================] - 11s 7ms/step - loss: 0.3509 - accuracy: 0.8754\n",
            "Epoch 25/50\n",
            "1560/1563 [============================>.] - ETA: 0s - loss: 0.3323 - accuracy: 0.8844\n",
            "Epoch 00025: saving model to modeles/CNN_KONGO.h5\n",
            "1563/1563 [==============================] - 11s 7ms/step - loss: 0.3322 - accuracy: 0.8844\n",
            "Epoch 26/50\n",
            "1562/1563 [============================>.] - ETA: 0s - loss: 0.3213 - accuracy: 0.8859\n",
            "Epoch 00026: saving model to modeles/CNN_KONGO.h5\n",
            "1563/1563 [==============================] - 11s 7ms/step - loss: 0.3215 - accuracy: 0.8858\n",
            "Epoch 27/50\n",
            "1558/1563 [============================>.] - ETA: 0s - loss: 0.3059 - accuracy: 0.8915\n",
            "Epoch 00027: saving model to modeles/CNN_KONGO.h5\n",
            "1563/1563 [==============================] - 11s 7ms/step - loss: 0.3060 - accuracy: 0.8915\n",
            "Epoch 28/50\n",
            "1556/1563 [============================>.] - ETA: 0s - loss: 0.2902 - accuracy: 0.8972\n",
            "Epoch 00028: saving model to modeles/CNN_KONGO.h5\n",
            "1563/1563 [==============================] - 11s 7ms/step - loss: 0.2904 - accuracy: 0.8972\n",
            "Epoch 29/50\n",
            "1561/1563 [============================>.] - ETA: 0s - loss: 0.2811 - accuracy: 0.8991\n",
            "Epoch 00029: saving model to modeles/CNN_KONGO.h5\n",
            "1563/1563 [==============================] - 11s 7ms/step - loss: 0.2810 - accuracy: 0.8992\n",
            "Epoch 30/50\n",
            "1560/1563 [============================>.] - ETA: 0s - loss: 0.2656 - accuracy: 0.9053\n",
            "Epoch 00030: saving model to modeles/CNN_KONGO.h5\n",
            "1563/1563 [==============================] - 11s 7ms/step - loss: 0.2654 - accuracy: 0.9053\n",
            "Epoch 31/50\n",
            "1559/1563 [============================>.] - ETA: 0s - loss: 0.2585 - accuracy: 0.9085\n",
            "Epoch 00031: saving model to modeles/CNN_KONGO.h5\n",
            "1563/1563 [==============================] - 11s 7ms/step - loss: 0.2584 - accuracy: 0.9085\n",
            "Epoch 32/50\n",
            "1559/1563 [============================>.] - ETA: 0s - loss: 0.2511 - accuracy: 0.9107\n",
            "Epoch 00032: saving model to modeles/CNN_KONGO.h5\n",
            "1563/1563 [==============================] - 11s 7ms/step - loss: 0.2511 - accuracy: 0.9107\n",
            "Epoch 33/50\n",
            "1561/1563 [============================>.] - ETA: 0s - loss: 0.2380 - accuracy: 0.9149\n",
            "Epoch 00033: saving model to modeles/CNN_KONGO.h5\n",
            "1563/1563 [==============================] - 11s 7ms/step - loss: 0.2382 - accuracy: 0.9149\n",
            "Epoch 34/50\n",
            "1558/1563 [============================>.] - ETA: 0s - loss: 0.2343 - accuracy: 0.9170\n",
            "Epoch 00034: saving model to modeles/CNN_KONGO.h5\n",
            "1563/1563 [==============================] - 11s 7ms/step - loss: 0.2341 - accuracy: 0.9170\n",
            "Epoch 35/50\n",
            "1560/1563 [============================>.] - ETA: 0s - loss: 0.2210 - accuracy: 0.9213\n",
            "Epoch 00035: saving model to modeles/CNN_KONGO.h5\n",
            "1563/1563 [==============================] - 11s 7ms/step - loss: 0.2210 - accuracy: 0.9213\n",
            "Epoch 36/50\n",
            "1558/1563 [============================>.] - ETA: 0s - loss: 0.2141 - accuracy: 0.9238\n",
            "Epoch 00036: saving model to modeles/CNN_KONGO.h5\n",
            "1563/1563 [==============================] - 11s 7ms/step - loss: 0.2142 - accuracy: 0.9239\n",
            "Epoch 37/50\n",
            "1560/1563 [============================>.] - ETA: 0s - loss: 0.2001 - accuracy: 0.9297\n",
            "Epoch 00037: saving model to modeles/CNN_KONGO.h5\n",
            "1563/1563 [==============================] - 11s 7ms/step - loss: 0.2003 - accuracy: 0.9297\n",
            "Epoch 38/50\n",
            "1558/1563 [============================>.] - ETA: 0s - loss: 0.1962 - accuracy: 0.9310\n",
            "Epoch 00038: saving model to modeles/CNN_KONGO.h5\n",
            "1563/1563 [==============================] - 11s 7ms/step - loss: 0.1963 - accuracy: 0.9310\n",
            "Epoch 39/50\n",
            "1556/1563 [============================>.] - ETA: 0s - loss: 0.1897 - accuracy: 0.9334\n",
            "Epoch 00039: saving model to modeles/CNN_KONGO.h5\n",
            "1563/1563 [==============================] - 11s 7ms/step - loss: 0.1899 - accuracy: 0.9334\n",
            "Epoch 40/50\n",
            "1556/1563 [============================>.] - ETA: 0s - loss: 0.1857 - accuracy: 0.9347\n",
            "Epoch 00040: saving model to modeles/CNN_KONGO.h5\n",
            "1563/1563 [==============================] - 11s 7ms/step - loss: 0.1860 - accuracy: 0.9346\n",
            "Epoch 41/50\n",
            "1557/1563 [============================>.] - ETA: 0s - loss: 0.1769 - accuracy: 0.9379\n",
            "Epoch 00041: saving model to modeles/CNN_KONGO.h5\n",
            "1563/1563 [==============================] - 11s 7ms/step - loss: 0.1774 - accuracy: 0.9376\n",
            "Epoch 42/50\n",
            "1557/1563 [============================>.] - ETA: 0s - loss: 0.1684 - accuracy: 0.9415\n",
            "Epoch 00042: saving model to modeles/CNN_KONGO.h5\n",
            "1563/1563 [==============================] - 11s 7ms/step - loss: 0.1689 - accuracy: 0.9414\n",
            "Epoch 43/50\n",
            "1559/1563 [============================>.] - ETA: 0s - loss: 0.1710 - accuracy: 0.9399\n",
            "Epoch 00043: saving model to modeles/CNN_KONGO.h5\n",
            "1563/1563 [==============================] - 11s 7ms/step - loss: 0.1713 - accuracy: 0.9398\n",
            "Epoch 44/50\n",
            "1558/1563 [============================>.] - ETA: 0s - loss: 0.1647 - accuracy: 0.9430\n",
            "Epoch 00044: saving model to modeles/CNN_KONGO.h5\n",
            "1563/1563 [==============================] - 11s 7ms/step - loss: 0.1649 - accuracy: 0.9429\n",
            "Epoch 45/50\n",
            "1557/1563 [============================>.] - ETA: 0s - loss: 0.1562 - accuracy: 0.9442\n",
            "Epoch 00045: saving model to modeles/CNN_KONGO.h5\n",
            "1563/1563 [==============================] - 11s 7ms/step - loss: 0.1563 - accuracy: 0.9441\n",
            "Epoch 46/50\n",
            "1558/1563 [============================>.] - ETA: 0s - loss: 0.1543 - accuracy: 0.9455\n",
            "Epoch 00046: saving model to modeles/CNN_KONGO.h5\n",
            "1563/1563 [==============================] - 11s 7ms/step - loss: 0.1543 - accuracy: 0.9455\n",
            "Epoch 47/50\n",
            "1561/1563 [============================>.] - ETA: 0s - loss: 0.1450 - accuracy: 0.9494\n",
            "Epoch 00047: saving model to modeles/CNN_KONGO.h5\n",
            "1563/1563 [==============================] - 11s 7ms/step - loss: 0.1451 - accuracy: 0.9493\n",
            "Epoch 48/50\n",
            "1562/1563 [============================>.] - ETA: 0s - loss: 0.1409 - accuracy: 0.9513\n",
            "Epoch 00048: saving model to modeles/CNN_KONGO.h5\n",
            "1563/1563 [==============================] - 11s 7ms/step - loss: 0.1409 - accuracy: 0.9513\n",
            "Epoch 49/50\n",
            "1562/1563 [============================>.] - ETA: 0s - loss: 0.1356 - accuracy: 0.9525\n",
            "Epoch 00049: saving model to modeles/CNN_KONGO.h5\n",
            "1563/1563 [==============================] - 11s 7ms/step - loss: 0.1356 - accuracy: 0.9525\n",
            "Epoch 50/50\n",
            "1559/1563 [============================>.] - ETA: 0s - loss: 0.1372 - accuracy: 0.9504\n",
            "Epoch 00050: saving model to modeles/CNN_KONGO.h5\n",
            "1563/1563 [==============================] - 11s 7ms/step - loss: 0.1376 - accuracy: 0.9503\n"
          ],
          "name": "stdout"
        }
      ]
    },
    {
      "cell_type": "code",
      "metadata": {
        "id": "FyWdhugrT3o3",
        "colab_type": "code",
        "colab": {}
      },
      "source": [
        "\n",
        "model_cnn.save('CNN_KONGO.h5')"
      ],
      "execution_count": 15,
      "outputs": []
    },
    {
      "cell_type": "code",
      "metadata": {
        "id": "HgOKQ-5ZwqYR",
        "colab_type": "code",
        "colab": {}
      },
      "source": [
        "model_cnn.load_weights('CNN_KONGO.h5')"
      ],
      "execution_count": 16,
      "outputs": []
    },
    {
      "cell_type": "code",
      "metadata": {
        "id": "4o2EsWwzUN4u",
        "colab_type": "code",
        "colab": {
          "base_uri": "https://localhost:8080/",
          "height": 265
        },
        "outputId": "8f7c75e4-7929-4a6c-94f1-deda79ec4de1"
      },
      "source": [
        "#voir graphiquement la précision du modèle \n",
        "plt.plot(resultat.history['accuracy'],color='red', label='precision')\n",
        "plt.legend()\n",
        "plt.show()"
      ],
      "execution_count": 17,
      "outputs": [
        {
          "output_type": "display_data",
          "data": {
            "image/png": "[encoded data removed]",
            "text/plain": [
              "<Figure size 432x288 with 1 Axes>"
            ]
          },
          "metadata": {
            "tags": [],
            "needs_background": "light"
          }
        }
      ]
    },
    {
      "cell_type": "code",
      "metadata": {
        "id": "lWcWa24CvX5T",
        "colab_type": "code",
        "colab": {
          "base_uri": "https://localhost:8080/",
          "height": 265
        },
        "outputId": "502cd974-0067-4787-d404-4bc5d54302db"
      },
      "source": [
        "#voir graphiquement la précision du modèle \n",
        "plt.plot(resultat.history['loss'],color='black', label='precision')\n",
        "plt.legend()\n",
        "plt.show()"
      ],
      "execution_count": 18,
      "outputs": [
        {
          "output_type": "display_data",
          "data": {
            "image/png": "[encoded data removed]",
            "text/plain": [
              "<Figure size 432x288 with 1 Axes>"
            ]
          },
          "metadata": {
            "tags": [],
            "needs_background": "light"
          }
        }
      ]
    },
    {
      "cell_type": "code",
      "metadata": {
        "id": "YHUebOMXF03e",
        "colab_type": "code",
        "colab": {
          "base_uri": "https://localhost:8080/",
          "height": 35
        },
        "outputId": "930320c6-1699-4ce2-eaec-8773526627ee"
      },
      "source": [
        "resultat2= model_cnn.evaluate(x_test,y_test)"
      ],
      "execution_count": 19,
      "outputs": [
        {
          "output_type": "stream",
          "text": [
            "313/313 [==============================] - 1s 3ms/step - loss: 0.7086 - accuracy: 0.7994\n"
          ],
          "name": "stdout"
        }
      ]
    },
    {
      "cell_type": "code",
      "metadata": {
        "id": "TOzk9kdxGKJn",
        "colab_type": "code",
        "colab": {
          "base_uri": "https://localhost:8080/",
          "height": 54
        },
        "outputId": "0886817c-31cf-4b88-fbb9-c0cf8febffe3"
      },
      "source": [
        "score= model_cnn.evaluate(x_train, y_train,verbose=0)\n",
        "print('Test score:', score[0] )\n",
        "print('Test Précision:', score[1])"
      ],
      "execution_count": 29,
      "outputs": [
        {
          "output_type": "stream",
          "text": [
            "Test score: 0.08392351865768433\n",
            "Test Précision: 0.9758800268173218\n"
          ],
          "name": "stdout"
        }
      ]
    },
    {
      "cell_type": "code",
      "metadata": {
        "id": "Y2xybGx9OG72",
        "colab_type": "code",
        "colab": {}
      },
      "source": [
        "erreur_test=score[0]\n",
        "precision_test=score[1]"
      ],
      "execution_count": 30,
      "outputs": []
    },
    {
      "cell_type": "code",
      "metadata": {
        "id": "5_hsZ5m7GPXc",
        "colab_type": "code",
        "colab": {}
      },
      "source": [
        "prediction=model_cnn.predict(x_test)"
      ],
      "execution_count": 22,
      "outputs": []
    },
    {
      "cell_type": "code",
      "metadata": {
        "id": "krEgRThwGhFh",
        "colab_type": "code",
        "colab": {
          "base_uri": "https://localhost:8080/",
          "height": 72
        },
        "outputId": "dc4c1634-cb38-4dd3-aa63-663c435e2afb"
      },
      "source": [
        "prediction[0]"
      ],
      "execution_count": 23,
      "outputs": [
        {
          "output_type": "execute_result",
          "data": {
            "text/plain": [
              "array([2.2590377e-06, 1.3290195e-06, 9.1638052e-05, 9.7930843e-01,\n",
              "       8.6937198e-06, 2.0532645e-02, 5.2817883e-05, 1.4695229e-06,\n",
              "       3.3338131e-07, 3.6915745e-07], dtype=float32)"
            ]
          },
          "metadata": {
            "tags": []
          },
          "execution_count": 23
        }
      ]
    },
    {
      "cell_type": "code",
      "metadata": {
        "id": "Rc8m8fu3Uxem",
        "colab_type": "code",
        "colab": {
          "base_uri": "https://localhost:8080/",
          "height": 592
        },
        "outputId": "1ffef146-dfa2-4b0d-acc4-be9b0cdf7f4b"
      },
      "source": [
        "plt.figure(figsize=(20,10))\n",
        "plt.subplot(1, 2, 1)\n",
        "#plt.suptitle('Optimizer : Adam', fontsize=10)\n",
        "plt.ylabel('Loss', fontsize=16)\n",
        "plt.plot(resultat.history['loss'], label='Erreur training ')\n",
        "plt.plot(score[0], label='Erreur test')\n",
        "\n",
        "plt.legend(loc='upper right')\n",
        "\n",
        "#plt.subplot(1, 2, 2)\n",
        "#plt.ylabel('Accuracy', fontsize=16)\n",
        "#plt.plot(resultat.history['accuracy'], label='Training Accuracy')\n",
        "#plt.plot(resultat.history['val_acc'], label='Validation Accuracy')\n",
        "#plt.legend(loc='lower right')\n",
        "plt.show()"
      ],
      "execution_count": 42,
      "outputs": [
        {
          "output_type": "display_data",
          "data": {
            "image/png": "[encoded data removed]",
            "text/plain": [
              "<Figure size 1440x720 with 1 Axes>"
            ]
          },
          "metadata": {
            "tags": [],
            "needs_background": "light"
          }
        }
      ]
    }
  ]
}